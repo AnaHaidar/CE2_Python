{
 "metadata": {
  "language_info": {
   "codemirror_mode": {
    "name": "ipython",
    "version": 3
   },
   "file_extension": ".py",
   "mimetype": "text/x-python",
   "name": "python",
   "nbconvert_exporter": "python",
   "pygments_lexer": "ipython3",
   "version": "3.8.3-final"
  },
  "orig_nbformat": 2,
  "kernelspec": {
   "name": "python3",
   "display_name": "Python 3",
   "language": "python"
  }
 },
 "nbformat": 4,
 "nbformat_minor": 2,
 "cells": [
  {
   "cell_type": "code",
   "execution_count": null,
   "metadata": {},
   "outputs": [],
   "source": [
    "# LISTA 8 - CE2 PYTHON                              Aluna: Ana Clara Arrais Haidar - 190024143\n",
    "#   > Capítulo 08, exercícios não resolvidos"
   ]
  },
  {
   "cell_type": "code",
   "execution_count": 1,
   "metadata": {},
   "outputs": [
    {
     "output_type": "stream",
     "name": "stdout",
     "text": [
      "Você deverá entregar os exercícios:  [179, 181]\n"
     ]
    }
   ],
   "source": [
    "# > Seleção dos Exercícios\n",
    "\n",
    "# Matrícula do input: 190024143\n",
    "\n",
    "import random\n",
    "\n",
    "def escolhe(matricula):\n",
    "    random.seed(matricula)\n",
    "    cap8 = (174,175,176,177,179,181,182,185)  \n",
    "    return(random.sample(cap8, k=2)) \n",
    "\n",
    "print(\"Você deverá entregar os exercícios: \", escolhe(input(\"Escreva o número de sua matricula\")))"
   ]
  },
  {
   "cell_type": "code",
   "execution_count": 15,
   "metadata": {
    "tags": []
   },
   "outputs": [
    {
     "output_type": "stream",
     "name": "stdout",
     "text": [
      "A raiz quadrada aproximada de 179.00 é: 13.38\n"
     ]
    }
   ],
   "source": [
    "# > Exercise 179: Recursive Square Root\n",
    "\n",
    "\n",
    "def aprox_raiz(n, chute):\n",
    "\n",
    "    erro = abs((chute**2) - n)\n",
    "\n",
    "    if erro <= 10**(-12):\n",
    "        return chute\n",
    "    else:\n",
    "        chute = (chute + n/chute)/2\n",
    "        return aprox_raiz(n, chute)\n",
    "\n",
    "\n",
    "def main():\n",
    "    n = float(input(\"Informe um número: \"))\n",
    "    chute = 1\n",
    "\n",
    "    raiz = aprox_raiz(n, chute)\n",
    "\n",
    "    print(\"A raiz quadrada aproximada de %.2f é: %.2f\" % (n,raiz))\n",
    "\n",
    "main()\n",
    "    "
   ]
  },
  {
   "cell_type": "code",
   "execution_count": 48,
   "metadata": {},
   "outputs": [
    {
     "output_type": "stream",
     "name": "stdout",
     "text": [
      "Não é possível dar o troco para 1.88 dólares com 6 moedas.\n"
     ]
    }
   ],
   "source": [
    "# > Exercise 181: Possible Change - Resolução SEM recursão\n",
    "\n",
    "# quarters, dimes, nickels and pennies\n",
    "\n",
    "def troco(valor, n_moedas):\n",
    "    \n",
    "    #valor = valor*100  # transformar o valor para centavos\n",
    "\n",
    "    quarters = valor//25\n",
    "    resto = valor%25\n",
    "\n",
    "    dimes = resto//10\n",
    "    resto = resto%10\n",
    "\n",
    "    nickels = resto//5\n",
    "    resto = resto%5\n",
    "\n",
    "    pennies = resto//1\n",
    "    resto = resto%1\n",
    "\n",
    "    if (quarters+dimes+nickels+pennies) == n_moedas:\n",
    "        return True\n",
    "    elif valor//25==n_moedas and valor%25==0:\n",
    "        return True\n",
    "    elif valor//10==n_moedas and valor%10==0:\n",
    "        return True\n",
    "    elif valor//5==n_moedas and valor%5==0:\n",
    "        return True\n",
    "    elif valor//1==n_moedas and valor%1==0:\n",
    "        return True\n",
    "    else:\n",
    "        return False\n",
    "\n",
    "\n",
    "def main():\n",
    "    valor = float(input('Informe o valor em dólares:'))\n",
    "    n_moedas = int(input('Informe o número de moedas:'))\n",
    "\n",
    "    if troco(valor*100, n_moedas):\n",
    "        print('É possível dar o troco para %.2f dólares com %d moedas.' % (valor, n_moedas))\n",
    "    else:\n",
    "        print('Não é possível dar o troco para %.2f dólares com %d moedas.' % (valor, n_moedas))\n",
    "\n",
    "main()\n"
   ]
  }
 ]
}